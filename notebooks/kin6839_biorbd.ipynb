{
 "cells": [
  {
   "cell_type": "markdown",
   "metadata": {},
   "source": [
    "# Mouvement des Corps Rigides\n",
    "## KIN-6839"
   ]
  },
  {
   "cell_type": "markdown",
   "metadata": {},
   "source": [
    "### Rototrans dans biorbd"
   ]
  },
  {
   "cell_type": "code",
   "execution_count": 1,
   "metadata": {},
   "outputs": [],
   "source": [
    "# Import needed packages\n",
    "import biorbd    as brbd\n",
    "import numpy     as np\n",
    "import BiorbdViz as brbdv"
   ]
  },
  {
   "cell_type": "code",
   "execution_count": 10,
   "metadata": {
    "scrolled": true
   },
   "outputs": [],
   "source": [
    "# Load a simple model\n",
    "b = brbdv.BiorbdViz(model_path=\"../data/2boxes.bioMod\")\n",
    "# Play with it\n",
    "b.set_q(np.array([1,0,0,np.pi/2,0,0,0,1,0,0,0,0]))"
   ]
  },
  {
   "cell_type": "markdown",
   "metadata": {},
   "source": [
    "Note : biorbd's interface uses Euler angles. Look at the .bioMod file to find the corresponding sequence. Inside biorbd, rototrans are used, as seen during the class. Let's play a bit with these notions. "
   ]
  },
  {
   "cell_type": "code",
   "execution_count": 13,
   "metadata": {},
   "outputs": [],
   "source": [
    "# Code a function which takes a rototrans and outputs 6D vector of configuration\n",
    "# Hints : \n",
    "# brbd.RotoTrans.toEulerAngles => <function biorbd.biorbd.RotoTrans.toEulerAngles(rt, seq)>\n",
    "# brbd.object.to_array() => numpy array of the biorbd object\n",
    "# np.hstack, np.vstack => horizontally or vertically stacks numpy arrays\n",
    "\n",
    "def rt_to_config(rt) :\n",
    "    eul   = brbd.RotoTrans.toEulerAngles(rt,'xyz')\n",
    "    trans = rt.to_array()[:3,3] \n",
    "    return np.hstack([trans,eul.to_array()])\n"
   ]
  },
  {
   "cell_type": "markdown",
   "metadata": {},
   "source": [
    "Test the function."
   ]
  },
  {
   "cell_type": "code",
   "execution_count": 4,
   "metadata": {},
   "outputs": [
    {
     "name": "stdout",
     "output_type": "stream",
     "text": [
      "Identity transform : \n",
      " [[1. 0. 0. 0.]\n",
      " [0. 1. 0. 0.]\n",
      " [0. 0. 1. 0.]\n",
      " [0. 0. 0. 1.]]\n",
      "Equivalent coordinates : \n",
      " [-0.  0. -0.  0.  0.  0.]\n"
     ]
    }
   ],
   "source": [
    "rt = brbd.RotoTrans()\n",
    "print(f\"Identity transform : \\n {rt.to_array()}\")\n",
    "print(f\"Equivalent coordinates : \\n {rt_to_config(rt)}\")"
   ]
  },
  {
   "cell_type": "markdown",
   "metadata": {},
   "source": [
    "Now, let's play with our boxes.\n",
    "Build a rototrans matrix \"rpz\" for Rot(z,90°).\n",
    "Build a rototrans matrix \"rny\" for Rot(y,-90°)."
   ]
  },
  {
   "cell_type": "code",
   "execution_count": 14,
   "metadata": {},
   "outputs": [],
   "source": [
    "#rpz = brbd.RotoTrans(np.matrix([[0,-1,0,0],[1,0,0,0],[0,0,1,0],[0,0,0,1]]))\n",
    "rpz = brbd.RotoTrans(np.matrix([[0,-1,0,0],[1,0,0,0],[0,0,1,0],[0,0,0,1]]))\n",
    "rny = brbd.RotoTrans(np.matrix([[0,0,-1,0],[0,1,0,0],[1,0,0,0],[0,0,0,1]]))\n",
    "rpz_config = rt_to_config(rpz)\n",
    "rny_config = rt_to_config(rny)\n",
    "b = brbdv.BiorbdViz(model_path=\"../data/2boxes.bioMod\")\n",
    "b.set_q(np.hstack([rpz_config,rny_config]))"
   ]
  },
  {
   "cell_type": "markdown",
   "metadata": {},
   "source": [
    "Test the product of rototrans, as seen in class. Visulalize the result in the viewer. Try to left and right multiply, discuss."
   ]
  },
  {
   "cell_type": "code",
   "execution_count": null,
   "metadata": {},
   "outputs": [],
   "source": [
    "###Code"
   ]
  },
  {
   "cell_type": "markdown",
   "metadata": {},
   "source": [
    "### Rappels d'intégration numérique"
   ]
  },
  {
   "cell_type": "markdown",
   "metadata": {},
   "source": [
    "Intégrer une fonction mathématique peut se faire analytiquement (formules connues, IPP, etc.) ou numériquement. \n",
    "Le principe de base de l'intégration numérique repose sur des appels à la fonction que l'on cherche à intégrer.\n",
    "\n",
    "Coder la méthode des rectangles (Euler).\n",
    "Comparer à la valeur analytique connue en faisant varier le pas d'intégration."
   ]
  },
  {
   "cell_type": "code",
   "execution_count": 67,
   "metadata": {},
   "outputs": [
    {
     "name": "stdout",
     "output_type": "stream",
     "text": [
      "temps nécessaire : 1.5266151428222656\n",
      "intégrale numérique = -0.49905180657145\n",
      "intégrale exacte =  -0.5063656411097588\n"
     ]
    }
   ],
   "source": [
    "import matplotlib.pyplot as plt\n",
    "from time import time\n",
    "\n",
    "xmin = 0\n",
    "xmax = 100\n",
    "nbx = 1000\n",
    "nbi = nbx - 1 # nombre d'intervalles\n",
    "\n",
    "x = np.linspace(xmin, xmax, nbx)\n",
    "y = np.cos(x)\n",
    "plt.plot(x,y,\"bo-\")\n",
    "\n",
    "integrale = 0\n",
    "t = time()\n",
    "for i in range(nbi):\n",
    "    integrale = integrale + y[i]*(x[i+1]-x[i])\n",
    "    # dessin du rectangle\n",
    "    x_rect = [x[i], x[i], x[i+1], x[i+1], x[i]] # abscisses des sommets\n",
    "    y_rect = [0   , y[i], y[i]  , 0     , 0   ] # ordonnees des sommets\n",
    "    plt.plot(x_rect, y_rect,\"r\")\n",
    "    \n",
    "print(\"temps nécessaire :\", time() - t)\n",
    "print(\"intégrale numérique =\", integrale)\n",
    "print(\"intégrale exacte = \",np.sin(xmax))\n",
    "\n",
    "plt.show()"
   ]
  },
  {
   "cell_type": "markdown",
   "metadata": {},
   "source": [
    "Coder la méthode des trapèzes (Euler).\n",
    "Comparer à la valeur analytique connue en faisant varier le pas d'intégration."
   ]
  },
  {
   "cell_type": "code",
   "execution_count": 6,
   "metadata": {},
   "outputs": [
    {
     "name": "stdout",
     "output_type": "stream",
     "text": [
      "temps nécessaire : 1.5310637950897217\n",
      "intégrale numérique = -0.5059427539043958\n",
      "intégrale exacte =  -0.5063656411097588\n"
     ]
    }
   ],
   "source": [
    "nbx = 1000\n",
    "nbi = nbx - 1 # nombre d'intervalles\n",
    "\n",
    "x = np.linspace(xmin, xmax, nbx)\n",
    "y = np.cos(x)\n",
    "plt.plot(x,y,\"bo-\")\n",
    "\n",
    "integrale = 0\n",
    "t = time()\n",
    "for i in range(nbi):\n",
    "    integrale = integrale + (y[i+1]+y[i])*(x[i+1]-x[i])/2\n",
    "    # dessin du rectangle\n",
    "    x_rect = [x[i], x[i], x[i+1], x[i+1], x[i]] # abscisses des sommets\n",
    "    y_rect = [0   , y[i], y[i+1]  , 0     , 0   ] # ordonnees des sommets\n",
    "    plt.plot(x_rect, y_rect,\"r\")\n",
    "    \n",
    "print(\"temps nécessaire :\", time() - t)\n",
    "print(\"intégrale numérique =\", integrale)\n",
    "print(\"intégrale exacte = \",np.sin(xmax))\n",
    "\n",
    "plt.show()"
   ]
  },
  {
   "cell_type": "markdown",
   "metadata": {},
   "source": [
    "Lire d'autre méthodes d'intégration (Simpson, pôlynomes de Lagrange).\n",
    "Utiliser l'intégration RK45 de scipy et comparer aux méthodes précédentes."
   ]
  },
  {
   "cell_type": "code",
   "execution_count": 7,
   "metadata": {},
   "outputs": [
    {
     "name": "stdout",
     "output_type": "stream",
     "text": [
      "temps nécessaire : 0.007090091705322266\n",
      "intégrale numérique = -0.5060210157655309\n",
      "intégrale exacte =  -0.5063656411097588\n"
     ]
    }
   ],
   "source": [
    "from scipy import integrate\n",
    "\n",
    "def mycos(t,y):\n",
    "    return np.cos(t)\n",
    "\n",
    "t = time()\n",
    "sol = integrate.solve_ivp(mycos, [xmin, xmax], [0], method='RK45')\n",
    "\n",
    "print(\"temps nécessaire :\", time() - t)\n",
    "print(\"intégrale numérique =\", -0.5060210157655309)\n",
    "print(\"intégrale exacte = \",np.sin(xmax))\n"
   ]
  },
  {
   "cell_type": "markdown",
   "metadata": {},
   "source": [
    "### Retour aux corps rigides "
   ]
  },
  {
   "cell_type": "markdown",
   "metadata": {},
   "source": [
    "Intégrer une vitesse de rotation spatiale avec RK45. \n",
    "Comparer à la formule de Rodrigues.\n",
    "Tracez l'erreur en degrés en fonction de la durée d'intégration.\n",
    "Visualisez le résultat."
   ]
  },
  {
   "cell_type": "code",
   "execution_count": 67,
   "metadata": {},
   "outputs": [
    {
     "name": "stdout",
     "output_type": "stream",
     "text": [
      "intégrale numérique = [[ 0.9990392 -0.0082156  0.0091764]\n",
      " [ 0.0091764  0.9990392 -0.0082156]\n",
      " [-0.0082156  0.0091764  0.9990392]]\n",
      "intégrale exacte =  [[ 1.00000000e+00  1.41410032e-15 -1.41410032e-15]\n",
      " [-1.41410032e-15  1.00000000e+00  1.41410032e-15]\n",
      " [ 1.41410032e-15 -1.41410032e-15  1.00000000e+00]]\n"
     ]
    }
   ],
   "source": [
    "import math as math\n",
    "from scipy import interpolate\n",
    "\n",
    "T = 10*2*np.pi # Durée de la simulation\n",
    "w = [1,1,1] # Axe de la rotation\n",
    "w /= np.linalg.norm(w)\n",
    "\n",
    "def so3(x):\n",
    "    return np.array([[0, -x[2], x[1]],\n",
    "                     [x[2], 0, -x[0]],\n",
    "                     [-x[1], x[0], 0]])\n",
    "\n",
    "def diff_R(t,R,w):\n",
    "    dot_R = so3(w).dot(np.reshape(R,(3,3)))\n",
    "    return np.reshape(dot_R,9)\n",
    "\n",
    "\n",
    "func_ode = lambda t, R : diff_R(t,R,w)\n",
    "\n",
    "R_0 = np.reshape(np.eye(3),9)\n",
    "sol = integrate.solve_ivp(func_ode, [0, T], R_0, method='RK45')\n",
    "sol_interp = interpolate.interp1d(sol.t,sol.y,kind='cubic')\n",
    "\n",
    "print(\"intégrale numérique =\", np.reshape(sol.y[:,-1],(3,3)))\n",
    "\n",
    "def rodrigues(w,T):\n",
    "    return np.eye(3)+np.sin(T)*so3(w) + (1-np.cos(T))*so3(w).dot(so3(w))\n",
    "int_rod = rodrigues(w,T)\n",
    "print(\"intégrale exacte = \", int_rod)\n",
    "\n",
    "def rot_to_eul(rot):\n",
    "    #psi   = math.atan2(rot[0,2],-rot[1,2])\n",
    "    #theta = math.acos(max(-1, min(1, rot[2,2])))\n",
    "    #phi   = math.atan2(rot[2,0],rot[2,1])\n",
    "    theta = math.asin(max(-1, min(1, rot[0,2])))\n",
    "    psi   = math.atan2(-rot[1,2] , rot[2,2])\n",
    "    phi   = math.atan2(-rot[0,1] , rot[0,0])\n",
    "    return np.array([psi,theta,phi])\n",
    "\n",
    "eul_interp = []\n",
    "interp_ratio = 1000\n",
    "t_interp = np.linspace(0,T,interp_ratio)\n",
    "for t in t_interp :\n",
    "    eul_interp += [rot_to_eul(np.reshape(sol_interp(t),(3,3)))]\n",
    "\n",
    "Ts = np.linspace(0,2000,num=20)\n",
    "err = []\n",
    "err_eul = []\n",
    "for T in Ts :\n",
    "    sol = integrate.solve_ivp(func_ode, [0, T], R_0, method='RK45')\n",
    "    int_rod = rodrigues(w,T)\n",
    "    err += [np.linalg.norm(np.reshape(sol.y[:,-1],(3,3))-int_rod)]\n",
    "    err_eul += [np.abs(rot_to_eul(np.reshape(sol.y[:,-1],(3,3))) - rot_to_eul(int_rod))]"
   ]
  },
  {
   "cell_type": "markdown",
   "metadata": {},
   "source": [
    "A présent, un petit exercice de présentation de résultat avec la librairie matplotlib.\n",
    "Afficher sur une première figure le résultat de l'interpolation en angles d'Euler.\n",
    "\n",
    "Sur une seconde figure, afficher deux graphiqueas : un pour l'erreur matricielle commise par RK45 et l'autre pour l'erreur correspondante en angles d'Euler.\n",
    "Discuter."
   ]
  },
  {
   "cell_type": "code",
   "execution_count": 69,
   "metadata": {},
   "outputs": [],
   "source": [
    "import seaborn as sns\n",
    "sns.set()\n",
    "\n",
    "plt.figure()\n",
    "plt.plot(t_interp,eul_interp)\n",
    "plt.xlabel(\"xlabel\")\n",
    "plt.ylabel(\"ylabel\")\n",
    "plt.title(\"...\")\n",
    "\n",
    "fig,(ax1,ax2) = plt.subplots(1,2)\n",
    "ax1.plot(Ts,err)\n",
    "ax1.set_title(\"Frobenius norm of the error on the final orientation matrix \\n as a function of the simulation duration\",x=-0.3)\n",
    "ax2.plot(Ts,err_eul)\n",
    "ax2.set_title(\"Norm of the error on the final euler angles \\n as a function of the simulation duration\",color=[1,0,0])\n",
    "fig.suptitle(\"Whatever\",fontsize=56)\n",
    "plt.show()"
   ]
  },
  {
   "cell_type": "markdown",
   "metadata": {},
   "source": [
    "Animer la sous biorbd-viz."
   ]
  },
  {
   "cell_type": "code",
   "execution_count": 70,
   "metadata": {},
   "outputs": [],
   "source": [
    "q_brbd = np.vstack([np.zeros((9,interp_ratio)),np.array(eul_interp).T])\n",
    "b = brbdv.BiorbdViz(model_path=\"../data/2boxes.bioMod\")\n",
    "b.load_movement(q_brbd.T)\n",
    "b.exec()"
   ]
  },
  {
   "cell_type": "markdown",
   "metadata": {},
   "source": [
    "Pour les plus rapides, refaire la même analyse avec des rototrans."
   ]
  },
  {
   "cell_type": "code",
   "execution_count": null,
   "metadata": {},
   "outputs": [],
   "source": [
    "###Code"
   ]
  },
  {
   "cell_type": "markdown",
   "metadata": {},
   "source": [
    "### Cinématique avec biorbd\n",
    "Tester la cinématique d'une chaine avec biorbd."
   ]
  },
  {
   "cell_type": "code",
   "execution_count": 82,
   "metadata": {},
   "outputs": [],
   "source": [
    "b = brbdv.BiorbdViz(model_path=\"../data/robot.bioMod\")\n",
    "b.exec()"
   ]
  },
  {
   "cell_type": "markdown",
   "metadata": {},
   "source": [
    "Envoyer des séquences d'angles aléatoires mais continues à biord-viz et constater le résultat de la cinématique directe appliquée à la chaîne."
   ]
  },
  {
   "cell_type": "code",
   "execution_count": 16,
   "metadata": {},
   "outputs": [],
   "source": [
    "nb_frames = 1000\n",
    "angles = np.zeros((3,nb_frames))\n",
    "for i in range(nb_frames-1) :\n",
    "    angles[:,i+1] = angles[:,i] + 0.1*(np.random.rand(3)-0.4)\n",
    "b = brbdv.BiorbdViz(model_path=\"../data/robot.bioMod\")\n",
    "b.load_movement(angles.T)\n",
    "b.exec()"
   ]
  },
  {
   "cell_type": "markdown",
   "metadata": {},
   "source": [
    "### Dynamique avec biorbd\n",
    "Tester la dynamique de la chaîne : effectuer une simulation, la gravité est prise en compte par défaut dans les équations !\n",
    "\n",
    "Écrire un programme rapide avec une intégration de type Euler.\n",
    "\n",
    "Tracer la trajectoire du centre de masse."
   ]
  },
  {
   "cell_type": "code",
   "execution_count": 54,
   "metadata": {},
   "outputs": [
    {
     "data": {
      "text/plain": [
       "Text(0, 0.5, '$COM_z$')"
      ]
     },
     "execution_count": 54,
     "metadata": {},
     "output_type": "execute_result"
    }
   ],
   "source": [
    "m = brbd.Model(\"../data/robot.bioMod\")\n",
    "angles = np.zeros((3,nb_frames))\n",
    "coms = np.zeros((3,nb_frames))\n",
    "q  = np.zeros((3,))+0.01\n",
    "dq = np.zeros((3,))\n",
    "tau = np.zeros((3,))\n",
    "dt=0.01\n",
    "coms[:,0] = m.CoM(q).to_array()\n",
    "angles[:,0] = q\n",
    "for i in range(nb_frames-1) :\n",
    "    ddq = m.ForwardDynamics(q,dq,tau)\n",
    "    dq  += ddq.to_array()*dt\n",
    "    q   += dq*dt\n",
    "    angles[:,i+1] = q\n",
    "    coms[:,i+1] = m.CoM(q).to_array()\n",
    "b = brbdv.BiorbdViz(model_path=\"../data/robot.bioMod\")\n",
    "b.load_movement(angles.T)\n",
    "b.exec()\n",
    "plt.plot(coms[1,:],coms[2,:])\n",
    "plt.title(\"CoM trajectory of a free falling triple pendulum\")\n",
    "plt.xlabel(\"$COM_y$\")\n",
    "plt.ylabel(\"$COM_z$\")"
   ]
  },
  {
   "cell_type": "markdown",
   "metadata": {},
   "source": [
    "Recommencer avec RK45."
   ]
  },
  {
   "cell_type": "code",
   "execution_count": null,
   "metadata": {},
   "outputs": [],
   "source": [
    "###Code"
   ]
  },
  {
   "cell_type": "markdown",
   "metadata": {},
   "source": [
    "Jouer avec les paramètres de la simulation, changer les paramètres inertiels, ajouter des couples articulaires, etc..."
   ]
  },
  {
   "cell_type": "code",
   "execution_count": null,
   "metadata": {},
   "outputs": [],
   "source": [
    "###Code"
   ]
  },
  {
   "cell_type": "markdown",
   "metadata": {},
   "source": [
    "Utiliser le modèle biorbd \"robot_with_markers\". Ce modèle inclut un marqueur au bout de chaque corps de la chaîne cinématique. \n",
    "Écrire une fonction qui calcule les positions 3D de ces marqueur, sachant q, la configuration du robot. \n",
    "Tracer les trajectoires de ces marqueurs pendant la simulation précédente."
   ]
  },
  {
   "cell_type": "code",
   "execution_count": 66,
   "metadata": {},
   "outputs": [
    {
     "name": "stdout",
     "output_type": "stream",
     "text": [
      "(4, 1000)\n"
     ]
    },
    {
     "data": {
      "text/plain": [
       "Text(22.097222222222214, 0.5, '$Z ~coordinate$')"
      ]
     },
     "execution_count": 66,
     "metadata": {},
     "output_type": "execute_result"
    }
   ],
   "source": [
    "m = brbd.Model(\"../data/robot_with_markers.bioMod\")\n",
    "\n",
    "def apply_rototrans_on_vec(rt,vec) :\n",
    "    vec = np.concatenate((vec,np.array([1])))\n",
    "    res = rt.dot(vec)\n",
    "    return res[:3]\n",
    "\n",
    "robot_markers = np.zeros((3,m.nbSegment()))\n",
    "for i in range(m.nbSegment()) :\n",
    "    robot_markers[:,i] = m.marker(i).to_array()\n",
    " \n",
    "markers_traj = np.zeros((m.nbSegment(),3,nb_frames))\n",
    "for i in range(nb_frames) :\n",
    "    for j in range(m.nbSegment()) :\n",
    "        gJCS = m.globalJCS(angles[:,i].T,j)\n",
    "        markers_traj[j,:,i]   = apply_rototrans_on_vec(gJCS.to_array(),robot_markers[:,j])\n",
    "print(markers_traj[:,1,:].shape)\n",
    "\n",
    "plt.plot(markers_traj[0,1,:].T,markers_traj[0,2,:].T,'rx')\n",
    "plt.plot(markers_traj[1:,1,:].T,markers_traj[1:,2,:].T)\n",
    "plt.title(\"Markers trajectories of a free falling triple pendulum\")\n",
    "plt.xlabel(\"$Y ~coordinate$\")\n",
    "plt.ylabel(\"$Z ~coordinate$\")"
   ]
  }
 ],
 "metadata": {
  "kernelspec": {
   "display_name": "Python 3",
   "language": "python",
   "name": "python3"
  },
  "language_info": {
   "codemirror_mode": {
    "name": "ipython",
    "version": 3
   },
   "file_extension": ".py",
   "mimetype": "text/x-python",
   "name": "python",
   "nbconvert_exporter": "python",
   "pygments_lexer": "ipython3",
   "version": "3.6.10"
  }
 },
 "nbformat": 4,
 "nbformat_minor": 4
}
