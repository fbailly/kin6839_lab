{
 "cells": [
  {
   "cell_type": "markdown",
   "metadata": {},
   "source": [
    "# Mouvement des Corps Rigides\n",
    "## KIN-6839"
   ]
  },
  {
   "cell_type": "markdown",
   "metadata": {},
   "source": [
    "### Rototrans dans biorbd"
   ]
  },
  {
   "cell_type": "code",
   "execution_count": 1,
   "metadata": {},
   "outputs": [],
   "source": [
    "# Import needed packages\n",
    "import biorbd    as brbd\n",
    "import numpy     as np\n",
    "import BiorbdViz as brbdv"
   ]
  },
  {
   "cell_type": "code",
   "execution_count": 6,
   "metadata": {
    "scrolled": true
   },
   "outputs": [],
   "source": [
    "# Load a simple model\n",
    "b = brbdv.BiorbdViz(model_path=\"../data/2boxes.bioMod\")\n",
    "# Play with it\n",
    "b.set_q(np.array([1,0,0,np.pi/2,0,0,0,1,0,0,0,0]))"
   ]
  },
  {
   "cell_type": "markdown",
   "metadata": {},
   "source": [
    "Note : biorbd's interface uses Euler angles. Look at the .bioMod file to find the corresponding sequence. Inside biorbd, rototrans are used, as seen during the class. Let's play a bit with these notions. "
   ]
  },
  {
   "cell_type": "code",
   "execution_count": 26,
   "metadata": {},
   "outputs": [],
   "source": [
    "# Code a function which takes a rototrans and outputs 6D vector of configuration\n",
    "# Hints : \n",
    "# brbd.RotoTrans.toEulerAngles => <function biorbd.biorbd.RotoTrans.toEulerAngles(rt, seq)>\n",
    "# brbd.object.to_array() => numpy array of the biorbd object\n",
    "# np.hstack, np.vstack => horizontally or vertically stacks numpy arrays\n",
    "\n",
    "def rt_to_config(rt) :\n",
    "    eul   = brbd.RotoTrans.toEulerAngles(rt,'xyz')\n",
    "    trans = rt.to_array()[:3,3] \n",
    "    return np.hstack([eul.to_array(),trans])\n"
   ]
  },
  {
   "cell_type": "markdown",
   "metadata": {},
   "source": [
    "Test the function."
   ]
  },
  {
   "cell_type": "code",
   "execution_count": 34,
   "metadata": {
    "collapsed": true
   },
   "outputs": [
    {
     "name": "stdout",
     "output_type": "stream",
     "text": [
      "Identity transform : \n",
      " [[1. 0. 0. 0.]\n",
      " [0. 1. 0. 0.]\n",
      " [0. 0. 1. 0.]\n",
      " [0. 0. 0. 1.]]\n",
      "Equivalent coordinates : \n",
      " [-0.  0. -0.  0.  0.  0.]\n"
     ]
    }
   ],
   "source": [
    "rt = brbd.RotoTrans()\n",
    "print(f\"Identity transform : \\n {rt.to_array()}\")\n",
    "print(f\"Equivalent coordinates : \\n {rt_to_config(rt)}\")"
   ]
  },
  {
   "cell_type": "markdown",
   "metadata": {},
   "source": [
    "Now, let's play with our boxes.\n",
    "Build a rototrans matrix \"rpz\" for Rot(z,90°).\n",
    "Build a rototrans matrix \"rny\" for Rot(y,-90°)."
   ]
  },
  {
   "cell_type": "code",
   "execution_count": 42,
   "metadata": {
    "collapsed": true
   },
   "outputs": [
    {
     "ename": "TypeError",
     "evalue": "Wrong number or type of arguments for overloaded function 'new_Rotation'.\n  Possible C/C++ prototypes are:\n    biorbd::utils::Rotation::Rotation(Eigen::Matrix3d const &)\n    biorbd::utils::Rotation::Rotation()\n    biorbd::utils::Rotation::Rotation(biorbd::utils::Vector const &,biorbd::utils::String const &)\n    biorbd::utils::Rotation::Rotation(RigidBodyDynamics::Math::SpatialTransform const &)\n",
     "output_type": "error",
     "traceback": [
      "\u001b[0;31m---------------------------------------------------------------------------\u001b[0m",
      "\u001b[0;31mTypeError\u001b[0m                                 Traceback (most recent call last)",
      "\u001b[0;32m<ipython-input-42-e5a7973ddcca>\u001b[0m in \u001b[0;36m<module>\u001b[0;34m\u001b[0m\n\u001b[1;32m      1\u001b[0m \u001b[0;31m#rpz = brbd.RotoTrans(np.matrix([[0,-1,0,0],[1,0,0,0],[0,0,1,0],[0,0,0,1]]))\u001b[0m\u001b[0;34m\u001b[0m\u001b[0;34m\u001b[0m\u001b[0;34m\u001b[0m\u001b[0m\n\u001b[0;32m----> 2\u001b[0;31m \u001b[0mbrbd\u001b[0m\u001b[0;34m.\u001b[0m\u001b[0mRotation\u001b[0m\u001b[0;34m(\u001b[0m\u001b[0mnp\u001b[0m\u001b[0;34m.\u001b[0m\u001b[0mmatrix\u001b[0m\u001b[0;34m(\u001b[0m\u001b[0;34m[\u001b[0m\u001b[0;34m[\u001b[0m\u001b[0;36m0\u001b[0m\u001b[0;34m,\u001b[0m\u001b[0;34m-\u001b[0m\u001b[0;36m1\u001b[0m\u001b[0;34m,\u001b[0m\u001b[0;36m0\u001b[0m\u001b[0;34m,\u001b[0m\u001b[0;36m0\u001b[0m\u001b[0;34m]\u001b[0m\u001b[0;34m,\u001b[0m\u001b[0;34m[\u001b[0m\u001b[0;36m1\u001b[0m\u001b[0;34m,\u001b[0m\u001b[0;36m0\u001b[0m\u001b[0;34m,\u001b[0m\u001b[0;36m0\u001b[0m\u001b[0;34m,\u001b[0m\u001b[0;36m0\u001b[0m\u001b[0;34m]\u001b[0m\u001b[0;34m,\u001b[0m\u001b[0;34m[\u001b[0m\u001b[0;36m0\u001b[0m\u001b[0;34m,\u001b[0m\u001b[0;36m0\u001b[0m\u001b[0;34m,\u001b[0m\u001b[0;36m1\u001b[0m\u001b[0;34m,\u001b[0m\u001b[0;36m0\u001b[0m\u001b[0;34m]\u001b[0m\u001b[0;34m,\u001b[0m\u001b[0;34m[\u001b[0m\u001b[0;36m0\u001b[0m\u001b[0;34m,\u001b[0m\u001b[0;36m0\u001b[0m\u001b[0;34m,\u001b[0m\u001b[0;36m0\u001b[0m\u001b[0;34m,\u001b[0m\u001b[0;36m1\u001b[0m\u001b[0;34m]\u001b[0m\u001b[0;34m]\u001b[0m\u001b[0;34m)\u001b[0m\u001b[0;34m)\u001b[0m\u001b[0;34m\u001b[0m\u001b[0;34m\u001b[0m\u001b[0m\n\u001b[0m\u001b[1;32m      3\u001b[0m \u001b[0mrny\u001b[0m \u001b[0;34m=\u001b[0m \u001b[0mnp\u001b[0m\u001b[0;34m.\u001b[0m\u001b[0marray\u001b[0m\u001b[0;34m(\u001b[0m\u001b[0;34m[\u001b[0m\u001b[0;34m[\u001b[0m\u001b[0;36m0\u001b[0m\u001b[0;34m,\u001b[0m\u001b[0;36m0\u001b[0m\u001b[0;34m,\u001b[0m\u001b[0;34m-\u001b[0m\u001b[0;36m1\u001b[0m\u001b[0;34m,\u001b[0m\u001b[0;36m0\u001b[0m\u001b[0;34m]\u001b[0m\u001b[0;34m,\u001b[0m\u001b[0;34m[\u001b[0m\u001b[0;36m0\u001b[0m\u001b[0;34m,\u001b[0m\u001b[0;36m1\u001b[0m\u001b[0;34m,\u001b[0m\u001b[0;36m0\u001b[0m\u001b[0;34m,\u001b[0m\u001b[0;36m0\u001b[0m\u001b[0;34m]\u001b[0m\u001b[0;34m,\u001b[0m\u001b[0;34m[\u001b[0m\u001b[0;36m1\u001b[0m\u001b[0;34m,\u001b[0m\u001b[0;36m0\u001b[0m\u001b[0;34m,\u001b[0m\u001b[0;36m0\u001b[0m\u001b[0;34m,\u001b[0m\u001b[0;36m0\u001b[0m\u001b[0;34m]\u001b[0m\u001b[0;34m,\u001b[0m\u001b[0;34m[\u001b[0m\u001b[0;36m0\u001b[0m\u001b[0;34m,\u001b[0m\u001b[0;36m0\u001b[0m\u001b[0;34m,\u001b[0m\u001b[0;36m0\u001b[0m\u001b[0;34m,\u001b[0m\u001b[0;36m1\u001b[0m\u001b[0;34m]\u001b[0m\u001b[0;34m]\u001b[0m\u001b[0;34m)\u001b[0m\u001b[0;34m\u001b[0m\u001b[0;34m\u001b[0m\u001b[0m\n\u001b[1;32m      4\u001b[0m \u001b[0mrt_to_config\u001b[0m\u001b[0;34m(\u001b[0m\u001b[0mrpz\u001b[0m\u001b[0;34m)\u001b[0m\u001b[0;34m\u001b[0m\u001b[0;34m\u001b[0m\u001b[0m\n\u001b[1;32m      5\u001b[0m \u001b[0mrt_to_config\u001b[0m\u001b[0;34m(\u001b[0m\u001b[0mrny\u001b[0m\u001b[0;34m)\u001b[0m\u001b[0;34m\u001b[0m\u001b[0;34m\u001b[0m\u001b[0m\n",
      "\u001b[0;32m~/miniconda3/envs/kin6839/lib/python3.6/site-packages/biorbd/biorbd.py\u001b[0m in \u001b[0;36m__init__\u001b[0;34m(self, *args)\u001b[0m\n\u001b[1;32m   1669\u001b[0m \u001b[0;34m\u001b[0m\u001b[0m\n\u001b[1;32m   1670\u001b[0m     \u001b[0;32mdef\u001b[0m \u001b[0m__init__\u001b[0m\u001b[0;34m(\u001b[0m\u001b[0mself\u001b[0m\u001b[0;34m,\u001b[0m \u001b[0;34m*\u001b[0m\u001b[0margs\u001b[0m\u001b[0;34m)\u001b[0m\u001b[0;34m:\u001b[0m\u001b[0;34m\u001b[0m\u001b[0;34m\u001b[0m\u001b[0m\n\u001b[0;32m-> 1671\u001b[0;31m         \u001b[0m_biorbd\u001b[0m\u001b[0;34m.\u001b[0m\u001b[0mRotation_swiginit\u001b[0m\u001b[0;34m(\u001b[0m\u001b[0mself\u001b[0m\u001b[0;34m,\u001b[0m \u001b[0m_biorbd\u001b[0m\u001b[0;34m.\u001b[0m\u001b[0mnew_Rotation\u001b[0m\u001b[0;34m(\u001b[0m\u001b[0;34m*\u001b[0m\u001b[0margs\u001b[0m\u001b[0;34m)\u001b[0m\u001b[0;34m)\u001b[0m\u001b[0;34m\u001b[0m\u001b[0;34m\u001b[0m\u001b[0m\n\u001b[0m\u001b[1;32m   1672\u001b[0m \u001b[0;34m\u001b[0m\u001b[0m\n\u001b[1;32m   1673\u001b[0m     \u001b[0;32mdef\u001b[0m \u001b[0maxe\u001b[0m\u001b[0;34m(\u001b[0m\u001b[0mself\u001b[0m\u001b[0;34m,\u001b[0m \u001b[0midx\u001b[0m\u001b[0;34m)\u001b[0m\u001b[0;34m:\u001b[0m\u001b[0;34m\u001b[0m\u001b[0;34m\u001b[0m\u001b[0m\n",
      "\u001b[0;31mTypeError\u001b[0m: Wrong number or type of arguments for overloaded function 'new_Rotation'.\n  Possible C/C++ prototypes are:\n    biorbd::utils::Rotation::Rotation(Eigen::Matrix3d const &)\n    biorbd::utils::Rotation::Rotation()\n    biorbd::utils::Rotation::Rotation(biorbd::utils::Vector const &,biorbd::utils::String const &)\n    biorbd::utils::Rotation::Rotation(RigidBodyDynamics::Math::SpatialTransform const &)\n"
     ]
    }
   ],
   "source": [
    "#rpz = brbd.RotoTrans(np.matrix([[0,-1,0,0],[1,0,0,0],[0,0,1,0],[0,0,0,1]]))\n",
    "brbd.Rotation(np.matrix([[0,-1,0,0],[1,0,0,0],[0,0,1,0],[0,0,0,1]]))\n",
    "rny = np.array([[0,0,-1,0],[0,1,0,0],[1,0,0,0],[0,0,0,1]])\n",
    "rpz_config = rt_to_config(rpz)\n",
    "rny_config = rt_to_config(rny)\n",
    "b.set_q(np.hstack([rpz_config,rny_config]))"
   ]
  },
  {
   "cell_type": "markdown",
   "metadata": {},
   "source": [
    "Test the product of rototrans, as seen in class. Visulalize the result in the viewer. Try to left and right multiply, discuss."
   ]
  },
  {
   "cell_type": "code",
   "execution_count": null,
   "metadata": {},
   "outputs": [],
   "source": [
    "###Code"
   ]
  },
  {
   "cell_type": "markdown",
   "metadata": {},
   "source": [
    "### Rappels d'intégration numérique"
   ]
  },
  {
   "cell_type": "markdown",
   "metadata": {},
   "source": [
    "Intégrer une fonction mathématique peut se faire analytiquement (formules connues, IPP, etc.) ou numériquement. Le principe de base de l'intégration numérique repose sur des appels à la fonction que l'on cherche à intégrer. \n",
    "Coder la méthode des rectangles (Euler).\n",
    "Comparer à la valeur analytique connue en faisant varier le pas d'intégration."
   ]
  },
  {
   "cell_type": "code",
   "execution_count": 90,
   "metadata": {},
   "outputs": [
    {
     "name": "stdout",
     "output_type": "stream",
     "text": [
      "temps nécessaire : 1.6873178482055664\n",
      "intégrale numérique = -0.49905180657145\n",
      "intégrale exacte =  -0.5063656411097588\n"
     ]
    }
   ],
   "source": [
    "import matplotlib.pyplot as plt\n",
    "from time import time\n",
    "\n",
    "xmin = 0\n",
    "xmax = 100\n",
    "nbx = 1000\n",
    "nbi = nbx - 1 # nombre d'intervalles\n",
    "\n",
    "x = np.linspace(xmin, xmax, nbx)\n",
    "y = np.cos(x)\n",
    "plt.plot(x,y,\"bo-\")\n",
    "\n",
    "integrale = 0\n",
    "t = time()\n",
    "for i in range(nbi):\n",
    "    integrale = integrale + y[i]*(x[i+1]-x[i])\n",
    "    # dessin du rectangle\n",
    "    x_rect = [x[i], x[i], x[i+1], x[i+1], x[i]] # abscisses des sommets\n",
    "    y_rect = [0   , y[i], y[i]  , 0     , 0   ] # ordonnees des sommets\n",
    "    plt.plot(x_rect, y_rect,\"r\")\n",
    "    \n",
    "print(\"temps nécessaire :\", time() - t)\n",
    "print(\"intégrale numérique =\", integrale)\n",
    "print(\"intégrale exacte = \",np.sin(xmax))\n",
    "\n",
    "plt.show()"
   ]
  },
  {
   "cell_type": "markdown",
   "metadata": {},
   "source": [
    "Coder la méthode des trapèzes (Euler).\n",
    "Comparer à la valeur analytique connue en faisant varier le pas d'intégration."
   ]
  },
  {
   "cell_type": "code",
   "execution_count": 91,
   "metadata": {},
   "outputs": [
    {
     "name": "stdout",
     "output_type": "stream",
     "text": [
      "temps nécessaire : 2.4084010124206543\n",
      "intégrale numérique = -0.5059427539043958\n",
      "intégrale exacte =  -0.5063656411097588\n"
     ]
    }
   ],
   "source": [
    "nbx = 1000\n",
    "nbi = nbx - 1 # nombre d'intervalles\n",
    "\n",
    "x = np.linspace(xmin, xmax, nbx)\n",
    "y = np.cos(x)\n",
    "plt.plot(x,y,\"bo-\")\n",
    "\n",
    "integrale = 0\n",
    "t = time()\n",
    "for i in range(nbi):\n",
    "    integrale = integrale + (y[i+1]+y[i])*(x[i+1]-x[i])/2\n",
    "    # dessin du rectangle\n",
    "    x_rect = [x[i], x[i], x[i+1], x[i+1], x[i]] # abscisses des sommets\n",
    "    y_rect = [0   , y[i], y[i+1]  , 0     , 0   ] # ordonnees des sommets\n",
    "    plt.plot(x_rect, y_rect,\"r\")\n",
    "    \n",
    "print(\"temps nécessaire :\", time() - t)\n",
    "print(\"intégrale numérique =\", integrale)\n",
    "print(\"intégrale exacte = \",np.sin(xmax))\n",
    "\n",
    "plt.show()"
   ]
  },
  {
   "cell_type": "markdown",
   "metadata": {},
   "source": [
    "Lire d'autre méthodes d'intégration (Simpson, pôlynomes de Lagrange).\n",
    "Utiliser l'intégration RK45 de scipy et comparer aux méthodes précédentes."
   ]
  },
  {
   "cell_type": "code",
   "execution_count": 92,
   "metadata": {},
   "outputs": [
    {
     "name": "stdout",
     "output_type": "stream",
     "text": [
      "temps nécessaire : 0.00672459602355957\n",
      "intégrale numérique = -0.5060210157655309\n",
      "intégrale exacte =  -0.5063656411097588\n"
     ]
    }
   ],
   "source": [
    "from scipy import integrate\n",
    "\n",
    "def mycos(t,y):\n",
    "    return np.cos(t)\n",
    "\n",
    "t = time()\n",
    "sol = integrate.solve_ivp(mycos, [xmin, xmax], [0], method='RK45')\n",
    "\n",
    "print(\"temps nécessaire :\", time() - t)\n",
    "print(\"intégrale numérique =\", -0.5060210157655309)\n",
    "print(\"intégrale exacte = \",np.sin(xmax))\n"
   ]
  },
  {
   "cell_type": "markdown",
   "metadata": {},
   "source": [
    "### Retour aux corps rigides "
   ]
  },
  {
   "cell_type": "markdown",
   "metadata": {},
   "source": [
    "Intégrer une vitesse de rotation spatiale avec RK45. \n",
    "Comparer à la formule de Rodrigues.\n",
    "Tracez l'erreur en degrés en fonction de la durée d'intégration.\n",
    "Visualisez le résultat."
   ]
  },
  {
   "cell_type": "code",
   "execution_count": 185,
   "metadata": {},
   "outputs": [
    {
     "name": "stdout",
     "output_type": "stream",
     "text": [
      "intégrale numérique = [[-0.83695968  0.54807877  0.        ]\n",
      " [-0.54807877 -0.83695968  0.        ]\n",
      " [ 0.          0.          1.        ]]\n",
      "intégrale exacte =  [[-0.83907153  0.54402111  0.        ]\n",
      " [-0.54402111 -0.83907153  0.        ]\n",
      " [ 0.          0.          1.        ]]\n"
     ]
    }
   ],
   "source": [
    "import math as math\n",
    "from scipy import interpolate\n",
    "\n",
    "T = 10 # Durée de la simulation\n",
    "w = [0,0,1] # Axe de la rotation\n",
    "\n",
    "def so3(x):\n",
    "    return np.array([[0, -x[2], x[1]],\n",
    "                     [x[2], 0, -x[0]],\n",
    "                     [-x[1], x[0], 0]])\n",
    "\n",
    "def diff_R(t,R,w):\n",
    "    dot_R = so3(w).dot(np.reshape(R,(3,3)))\n",
    "    return np.reshape(dot_R,9)\n",
    "\n",
    "\n",
    "func_ode = lambda t, R : diff_R(t,R,w)\n",
    "\n",
    "R_0 = np.reshape(np.eye(3),9)\n",
    "sol = integrate.solve_ivp(func_ode, [0, T], R_0, method='RK45')\n",
    "sol_interp = interpolate.interp1d(sol.t,sol.y,kind='cubic')\n",
    "\n",
    "print(\"intégrale numérique =\", np.reshape(sol.y[:,-1],(3,3)))\n",
    "\n",
    "def rodrigues(w,T):\n",
    "    return np.eye(3)+np.sin(T)*so3(w) + (1-np.cos(T))*so3(w).dot(so3(w))\n",
    "int_rod = rodrigues(w,T)\n",
    "print(\"intégrale exacte = \", int_rod)\n",
    "\n",
    "def rot_to_eul(rot):\n",
    "    psi   = math.atan2(rot[0,0],-rot[1,0])\n",
    "    theta = math.acos(max(-1, min(1, rot[2,2])))\n",
    "    phi   = math.atan2(rot[2,0],rot[2,1])\n",
    "    return np.array([psi,theta,phi])\n",
    "\n",
    "eul_int = []\n",
    "interp_ratio = 1000\n",
    "t_interp = np.linspace(0,T,interp_ratio)\n",
    "for t in t_interp :\n",
    "    eul_int += [rot_to_eul(np.reshape(sol_interp(t),(3,3)))]\n",
    "plt.plot(t_interp,eul_int)\n",
    "\n",
    "\n",
    "Ts = np.linspace(0,10,num=100)\n",
    "err = []\n",
    "err_eul = []\n",
    "for T in Ts :\n",
    "    sol = integrate.solve_ivp(func_ode, [0, T], R_0, method='RK45')\n",
    "    int_rod = rodrigues(w,T)\n",
    "    err += [np.linalg.norm(np.reshape(sol.y[:,-1],(3,3))-int_rod)]\n",
    "    err_eul += [rot_to_eul(np.reshape(sol.y[:,-1],(3,3))) - rot_to_eul(int_rod)]\n",
    "#plt.plot(Ts,err)\n",
    "plt.figure()\n",
    "plt.plot(Ts,err_eul)\n",
    "plt.show()"
   ]
  }
 ],
 "metadata": {
  "kernelspec": {
   "display_name": "Python 3",
   "language": "python",
   "name": "python3"
  },
  "language_info": {
   "codemirror_mode": {
    "name": "ipython",
    "version": 3
   },
   "file_extension": ".py",
   "mimetype": "text/x-python",
   "name": "python",
   "nbconvert_exporter": "python",
   "pygments_lexer": "ipython3",
   "version": "3.6.10"
  }
 },
 "nbformat": 4,
 "nbformat_minor": 4
}
